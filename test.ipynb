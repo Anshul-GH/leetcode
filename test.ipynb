{
 "cells": [
  {
   "cell_type": "code",
   "execution_count": 1,
   "metadata": {},
   "outputs": [
    {
     "data": {
      "text/plain": [
       "[1, 2, 2, 2]"
      ]
     },
     "execution_count": 1,
     "metadata": {},
     "output_type": "execute_result"
    }
   ],
   "source": [
    "[1, 2] + [2, 2]"
   ]
  },
  {
   "cell_type": "code",
   "execution_count": 2,
   "metadata": {},
   "outputs": [
    {
     "ename": "TypeError",
     "evalue": "can only concatenate list (not \"int\") to list",
     "output_type": "error",
     "traceback": [
      "\u001b[0;31m---------------------------------------------------------------------------\u001b[0m",
      "\u001b[0;31mTypeError\u001b[0m                                 Traceback (most recent call last)",
      "Cell \u001b[0;32mIn[2], line 2\u001b[0m\n\u001b[1;32m      1\u001b[0m lst \u001b[39m=\u001b[39m [\u001b[39m-\u001b[39m\u001b[39m1\u001b[39m, \u001b[39m-\u001b[39m\u001b[39m1\u001b[39m]\n\u001b[0;32m----> 2\u001b[0m lst \u001b[39m=\u001b[39m lst \u001b[39m+\u001b[39;49m \u001b[39m2\u001b[39;49m\n\u001b[1;32m      3\u001b[0m \u001b[39mprint\u001b[39m(lst)\n",
      "\u001b[0;31mTypeError\u001b[0m: can only concatenate list (not \"int\") to list"
     ]
    }
   ],
   "source": [
    "lst = [-1, -1]\n",
    "lst = lst + 2\n",
    "print(lst)"
   ]
  },
  {
   "cell_type": "code",
   "execution_count": 1,
   "metadata": {},
   "outputs": [],
   "source": [
    "def factorial(num):\n",
    "    result = 1\n",
    "    for i in range(1, num+1):\n",
    "        result *= i\n",
    "\n",
    "    return result\n",
    "\n",
    "nums = [1, 2, 3]\n",
    "all_perm = []\n",
    "all_perm_count = factorial(len(nums))\n",
    "len_nums = len(nums)\n",
    "\n",
    "# for i in range(len_nums):\n",
    "#     for j in range"
   ]
  },
  {
   "cell_type": "code",
   "execution_count": 6,
   "metadata": {},
   "outputs": [],
   "source": [
    "all_perm = [nums]*all_perm_count"
   ]
  },
  {
   "cell_type": "code",
   "execution_count": 7,
   "metadata": {},
   "outputs": [
    {
     "data": {
      "text/plain": [
       "[[1, 2, 3], [1, 2, 3], [1, 2, 3], [1, 2, 3], [1, 2, 3], [1, 2, 3]]"
      ]
     },
     "execution_count": 7,
     "metadata": {},
     "output_type": "execute_result"
    }
   ],
   "source": [
    "all_perm"
   ]
  },
  {
   "cell_type": "code",
   "execution_count": 8,
   "metadata": {},
   "outputs": [],
   "source": [
    "nums.sort()\n",
    "\n",
    "all_perms = {}\n",
    "\n",
    "for num in range(1, all_perm_count+1):\n",
    "    all_perms[num] = [[0]*len(nums)]*all_perm_count\n"
   ]
  },
  {
   "cell_type": "code",
   "execution_count": 10,
   "metadata": {},
   "outputs": [
    {
     "name": "stdout",
     "output_type": "stream",
     "text": [
      "{1: [[0, 0, 0], [0, 0, 0], [0, 0, 0], [0, 0, 0], [0, 0, 0], [0, 0, 0]], 2: [[0, 0, 0], [0, 0, 0], [0, 0, 0], [0, 0, 0], [0, 0, 0], [0, 0, 0]], 3: [[0, 0, 0], [0, 0, 0], [0, 0, 0], [0, 0, 0], [0, 0, 0], [0, 0, 0]], 4: [[0, 0, 0], [0, 0, 0], [0, 0, 0], [0, 0, 0], [0, 0, 0], [0, 0, 0]], 5: [[0, 0, 0], [0, 0, 0], [0, 0, 0], [0, 0, 0], [0, 0, 0], [0, 0, 0]], 6: [[0, 0, 0], [0, 0, 0], [0, 0, 0], [0, 0, 0], [0, 0, 0], [0, 0, 0]]}\n"
     ]
    }
   ],
   "source": [
    "print(all_perms)"
   ]
  },
  {
   "cell_type": "code",
   "execution_count": 11,
   "metadata": {},
   "outputs": [
    {
     "data": {
      "text/plain": [
       "{1: [[0, 0, 0], [0, 0, 0], [0, 0, 0], [0, 0, 0], [0, 0, 0], [0, 0, 0]],\n",
       " 2: [[0, 0, 0], [0, 0, 0], [0, 0, 0], [0, 0, 0], [0, 0, 0], [0, 0, 0]],\n",
       " 3: [[0, 0, 0], [0, 0, 0], [0, 0, 0], [0, 0, 0], [0, 0, 0], [0, 0, 0]],\n",
       " 4: [[0, 0, 0], [0, 0, 0], [0, 0, 0], [0, 0, 0], [0, 0, 0], [0, 0, 0]],\n",
       " 5: [[0, 0, 0], [0, 0, 0], [0, 0, 0], [0, 0, 0], [0, 0, 0], [0, 0, 0]],\n",
       " 6: [[0, 0, 0], [0, 0, 0], [0, 0, 0], [0, 0, 0], [0, 0, 0], [0, 0, 0]]}"
      ]
     },
     "execution_count": 11,
     "metadata": {},
     "output_type": "execute_result"
    }
   ],
   "source": [
    "{\n",
    "    1: [[0, 0, 0], [0, 0, 0], [0, 0, 0], [0, 0, 0], [0, 0, 0], [0, 0, 0]], \n",
    "    2: [[0, 0, 0], [0, 0, 0], [0, 0, 0], [0, 0, 0], [0, 0, 0], [0, 0, 0]], \n",
    "    3: [[0, 0, 0], [0, 0, 0], [0, 0, 0], [0, 0, 0], [0, 0, 0], [0, 0, 0]],\n",
    "    4: [[0, 0, 0], [0, 0, 0], [0, 0, 0], [0, 0, 0], [0, 0, 0], [0, 0, 0]], \n",
    "    5: [[0, 0, 0], [0, 0, 0], [0, 0, 0], [0, 0, 0], [0, 0, 0], [0, 0, 0]], \n",
    "    6: [[0, 0, 0], [0, 0, 0], [0, 0, 0], [0, 0, 0], [0, 0, 0], [0, 0, 0]]\n",
    "}\n"
   ]
  },
  {
   "cell_type": "code",
   "execution_count": 12,
   "metadata": {},
   "outputs": [
    {
     "name": "stdout",
     "output_type": "stream",
     "text": [
      "[1, 2, 3]\n",
      "[1, 3, 2]\n",
      "[2, 1, 3]\n",
      "[2, 3, 1]\n",
      "[3, 1, 2]\n",
      "[3, 2, 1]\n"
     ]
    }
   ],
   "source": [
    "# Sample list\n",
    "my_list = [1, 2, 3]\n",
    "\n",
    "# Function to generate all permutations of a list\n",
    "def permute(lst):\n",
    "  # If the length of the list is 0 or 1, return the list\n",
    "  if len(lst) <= 1:\n",
    "    return [lst]\n",
    "\n",
    "  # Initialize the list of permutations\n",
    "  perm_list = []\n",
    "\n",
    "  # Loop through the elements in the list\n",
    "  for i in range(len(lst)):\n",
    "    # Get the current element\n",
    "    elem = lst[i]\n",
    "\n",
    "    # Get the remaining list\n",
    "    remaining = lst[:i] + lst[i+1:]\n",
    "\n",
    "    # Generate all permutations of the remaining list\n",
    "    for p in permute(remaining):\n",
    "      # Append the current element to the permutations of the remaining list\n",
    "      perm_list.append([elem] + p)\n",
    "\n",
    "  # Return the list of permutations\n",
    "  return perm_list\n",
    "\n",
    "# Get all permutations of the list\n",
    "perm = permute(my_list)\n",
    "\n",
    "# Print the permutations\n",
    "for p in perm:\n",
    "  print(p)\n"
   ]
  },
  {
   "cell_type": "code",
   "execution_count": 3,
   "metadata": {},
   "outputs": [],
   "source": []
  },
  {
   "cell_type": "code",
   "execution_count": 4,
   "metadata": {},
   "outputs": [
    {
     "data": {
      "text/plain": [
       "[[97, 101, 116],\n",
       " [97, 101, 116],\n",
       " [97, 110, 116],\n",
       " [97, 101, 116],\n",
       " [97, 110, 116],\n",
       " [97, 98, 116]]"
      ]
     },
     "execution_count": 4,
     "metadata": {},
     "output_type": "execute_result"
    }
   ],
   "source": [
    "strs_nums"
   ]
  },
  {
   "cell_type": "code",
   "execution_count": 18,
   "metadata": {},
   "outputs": [
    {
     "name": "stdout",
     "output_type": "stream",
     "text": [
      "[['eat', 'tea', 'ate'], ['tan', 'nat'], ['bat']]\n"
     ]
    }
   ],
   "source": [
    "strs = [\"eat\",\"tea\",\"tan\",\"ate\",\"nat\",\"bat\"]\n",
    "# strs = [\"\"]\n",
    "# strs = [\"a\"]\n",
    "strs_nums = []\n",
    "output = []\n",
    "\n",
    "for strg in strs:\n",
    "    str_num = [ord(chr) for chr in strg]\n",
    "    str_num.sort()\n",
    "    strs_nums.append(tuple(str_num))\n",
    "\n",
    "strs_dict = {}\n",
    "\n",
    "for idx, val in enumerate(strs_nums):\n",
    "    if val in strs_dict:\n",
    "        strs_dict[val].append(idx)\n",
    "    else:\n",
    "        strs_dict[val] = [idx]\n",
    "\n",
    "for value in strs_dict.values():    \n",
    "    anagrams = [strs[i] for i in value]\n",
    "    output.append(anagrams)\n",
    "\n",
    "print(output)"
   ]
  },
  {
   "cell_type": "code",
   "execution_count": 9,
   "metadata": {},
   "outputs": [
    {
     "data": {
      "text/plain": [
       "{(97, 101, 116): [0, 1, 3], (97, 110, 116): [2, 4], (97, 98, 116): [5]}"
      ]
     },
     "execution_count": 9,
     "metadata": {},
     "output_type": "execute_result"
    }
   ],
   "source": [
    "strs_dict"
   ]
  },
  {
   "cell_type": "code",
   "execution_count": 11,
   "metadata": {},
   "outputs": [],
   "source": [
    "for value in strs_dict.values():    \n",
    "    anagrams = [strs[i] for i in value]\n",
    "    output.append(anagrams)"
   ]
  },
  {
   "cell_type": "code",
   "execution_count": 12,
   "metadata": {},
   "outputs": [
    {
     "data": {
      "text/plain": [
       "[['eat', 'tea', 'ate'], ['tan', 'nat'], ['bat']]"
      ]
     },
     "execution_count": 12,
     "metadata": {},
     "output_type": "execute_result"
    }
   ],
   "source": [
    "output"
   ]
  },
  {
   "cell_type": "code",
   "execution_count": 3,
   "metadata": {},
   "outputs": [],
   "source": [
    "def divide(dividend, divisor):     \n",
    "    neg=( (dividend < 0) != (divisor < 0) )\n",
    "    dividend = left = abs(dividend)\n",
    "    divisor  = div  = abs(divisor)\n",
    "    Q = 1\n",
    "    ans = 0\n",
    "    while left >= divisor:\n",
    "        left -= div\n",
    "        ans  += Q \n",
    "        Q    += Q\n",
    "        div  += div\n",
    "        if left < div:\n",
    "            div = divisor\n",
    "            Q = 1\n",
    "    if neg:\n",
    "        return max(-ans, -2147483648)\n",
    "    else:\n",
    "        return min(ans, 2147483647)"
   ]
  },
  {
   "cell_type": "code",
   "execution_count": 6,
   "metadata": {},
   "outputs": [
    {
     "name": "stdout",
     "output_type": "stream",
     "text": [
      "3\n"
     ]
    }
   ],
   "source": [
    "# dividend = 2147483647\n",
    "# divisor = 1\n",
    "\n",
    "dividend = 10\n",
    "divisor = 3\n",
    "\n",
    "print(divide(dividend, divisor))"
   ]
  },
  {
   "cell_type": "code",
   "execution_count": 2,
   "metadata": {},
   "outputs": [
    {
     "name": "stdout",
     "output_type": "stream",
     "text": [
      "12\n",
      "[4]\n"
     ]
    }
   ],
   "source": [
    "nums = [-2,1,-3,4,-1,2,1,-5,4]\n",
    "\n",
    "max_sum = sum(nums)\n",
    "subarray = []\n",
    "\n",
    "left = 0\n",
    "right = len(nums) - 1\n",
    "\n",
    "while left <= right:\n",
    "    current_sum = max_sum - nums[left]    \n",
    "    if max_sum < current_sum:\n",
    "        max_sum = current_sum\n",
    "        subarray = nums[left+1:]\n",
    "    \n",
    "    # current_sum = max_sum - nums[right]\n",
    "    # if max_sum < current_sum:\n",
    "    #     max_sum = current_sum\n",
    "    #     subarray = nums[:right]\n",
    "\n",
    "    # current_sum = max_sum - nums[left] - nums[right]\n",
    "    # if max_sum < current_sum:\n",
    "    #     max_sum = current_sum\n",
    "    #     subarray = nums[left+1:right]\n",
    "\n",
    "    left += 1\n",
    "    # right -= 1\n",
    "\n",
    "print(max_sum)\n",
    "print(subarray)\n"
   ]
  },
  {
   "cell_type": "code",
   "execution_count": null,
   "metadata": {},
   "outputs": [],
   "source": []
  },
  {
   "cell_type": "code",
   "execution_count": 4,
   "metadata": {},
   "outputs": [
    {
     "data": {
      "text/plain": [
       "[1, 2, 3, 4, 5, 6, 7, 8, 9]"
      ]
     },
     "execution_count": 4,
     "metadata": {},
     "output_type": "execute_result"
    }
   ],
   "source": [
    "\n",
    "\n",
    "matrix_flat"
   ]
  },
  {
   "cell_type": "code",
   "execution_count": 10,
   "metadata": {},
   "outputs": [
    {
     "name": "stdout",
     "output_type": "stream",
     "text": [
      "4 3\n",
      "[5, 6, 7, 8, 9, 10, 11, 12]\n",
      "[1, 2, 3, 4]\n",
      "4 2\n"
     ]
    }
   ],
   "source": [
    "# matrix = [[1,2,3],[4,5,6],[7,8,9]]\n",
    "matrix = [[1,2,3,4],[5,6,7,8],[9,10,11,12]]\n",
    "\n",
    "matrix_flat = []\n",
    "traversal = []\n",
    "\n",
    "m = len(matrix)\n",
    "n = len(matrix[0])\n",
    "print(n, m)\n",
    "\n",
    "for elem in matrix:\n",
    "    for subelem in elem:\n",
    "        matrix_flat.append(subelem)\n",
    "\n",
    "# horizontal traversal\n",
    "for i in range(n):\n",
    "    traversal.append(matrix_flat[i])\n",
    "\n",
    "matrix_flat = matrix_flat[n:]\n",
    "print(matrix_flat)\n",
    "print(traversal)\n",
    "\n",
    "m -= 1\n",
    "print(n, m)\n",
    "# vertical traversal\n",
    "\n",
    "\n",
    "\n",
    "# for i in range(m):\n",
    "#     traversal.append(matrix_flat)"
   ]
  },
  {
   "cell_type": "code",
   "execution_count": 20,
   "metadata": {},
   "outputs": [
    {
     "name": "stdout",
     "output_type": "stream",
     "text": [
      "[[1, 2, 3], [4, 5, 6], [7, 8, 9]]\n",
      "-------------\n",
      "[[4, 5, 6], [7, 8, 9]]\n",
      "[1, 2, 3]\n",
      "-------------\n",
      "[[4, 5], [7, 8]]\n",
      "[1, 2, 3, 6, 9]\n",
      "-------------\n",
      "[[4, 5]]\n",
      "[1, 2, 3, 6, 9, 8, 7]\n",
      "-------------\n",
      "[[5]]\n",
      "[1, 2, 3, 6, 9, 8, 7, 4]\n",
      "-------------\n",
      "[]\n",
      "[1, 2, 3, 6, 9, 8, 7, 4, 5]\n",
      "-------------\n"
     ]
    }
   ],
   "source": [
    "# matrix = [[1,2,3,4],[5,6,7,8],[9,10,11,12]]\n",
    "matrix = [[1,2,3],[4,5,6],[7,8,9]]\n",
    "print(matrix)\n",
    "print(\"-------------\")\n",
    "traverse = []\n",
    "\n",
    "# first horizontal move\n",
    "traverse = matrix[0]\n",
    "matrix = matrix[1:]\n",
    "print(matrix)\n",
    "print(traverse)\n",
    "print(\"-------------\")\n",
    "\n",
    "# first vertical move\n",
    "for idx,elem in enumerate(matrix):\n",
    "    traverse.append(elem[-1])\n",
    "    matrix[idx] = elem[:-1]\n",
    "print(matrix)\n",
    "print(traverse)\n",
    "print(\"-------------\")\n",
    "\n",
    "# second horizontal\n",
    "traverse.extend(matrix[-1][::-1])\n",
    "matrix = matrix[:-1]\n",
    "print(matrix)\n",
    "print(traverse)\n",
    "print(\"-------------\")\n",
    "\n",
    "\n",
    "# second vertical move\n",
    "matrix = matrix[::-1]\n",
    "for idx,elem in enumerate(matrix):\n",
    "    traverse.append(elem[0])\n",
    "    matrix[idx] = elem[1:]\n",
    "print(matrix)\n",
    "print(traverse)\n",
    "print(\"-------------\")\n",
    "\n",
    "# first horizontal move\n",
    "traverse.extend(matrix[0])\n",
    "matrix = matrix[1:]\n",
    "print(matrix)\n",
    "print(traverse)\n",
    "print(\"-------------\")\n"
   ]
  },
  {
   "cell_type": "code",
   "execution_count": 6,
   "metadata": {},
   "outputs": [
    {
     "name": "stdout",
     "output_type": "stream",
     "text": [
      "[[1, 2, 3, 4], [5, 6, 7, 8], [9, 10, 11, 12], [13, 14, 15, 16]]\n",
      "[1, 2, 3, 4, 8, 12, 16, 15, 14, 13, 9, 5, 6, 7, 11, 10]\n"
     ]
    }
   ],
   "source": [
    "# matrix = [[1,2,3],[4,5,6],[7,8,9]]\n",
    "# matrix = [[1,2,3,4],[5,6,7,8],[9,10,11,12]]\n",
    "# matrix = [[7],[9],[6]]\n",
    "matrix = [[1,2,3,4],[5,6,7,8],[9,10,11,12],[13,14,15,16]]\n",
    "\n",
    "\n",
    "print(matrix)\n",
    "\n",
    "traverse = []\n",
    "iteration = 0\n",
    "while matrix:\n",
    "    # horizontal movement: left-right\n",
    "    if iteration == 0 and matrix:\n",
    "        traverse.extend(matrix[0])\n",
    "        matrix = matrix[1:]\n",
    "        iteration += 1\n",
    "        iteration = iteration % 4\n",
    "    \n",
    "    # horizontal movement: right-left\n",
    "    elif iteration == 2 and matrix:\n",
    "        traverse.extend(matrix[-1][::-1])\n",
    "        matrix = matrix[:-1]\n",
    "        iteration += 1\n",
    "        iteration = iteration % 4\n",
    "    \n",
    "    # vertical movement: top-down\n",
    "    elif iteration == 1 and matrix:\n",
    "        for idx, elem in enumerate(matrix):\n",
    "            if elem:\n",
    "                traverse.append(elem[-1])\n",
    "                matrix[idx] = elem[:-1]\n",
    "        iteration += 1\n",
    "        iteration = iteration % 4\n",
    "\n",
    "    # vertical movement: bottom-up\n",
    "    elif iteration == 3 and matrix:\n",
    "        matrix = matrix[::-1]\n",
    "        for idx,elem in enumerate(matrix):\n",
    "            if elem:\n",
    "                traverse.append(elem[0])\n",
    "                matrix[idx] = elem[1:]\n",
    "        matrix = matrix[::-1]\n",
    "        iteration += 1\n",
    "        iteration = iteration % 4        \n",
    "\n",
    "print(traverse)"
   ]
  },
  {
   "cell_type": "code",
   "execution_count": 7,
   "metadata": {},
   "outputs": [
    {
     "name": "stdout",
     "output_type": "stream",
     "text": [
      "[]\n",
      "[[1, 2, 3, 4], [5, 6, 7, 8], [9, 10, 11, 12], [13, 14, 15, 16]]\n",
      "[1, 2, 3, 4]\n",
      "[(8, 12, 16), (7, 11, 15), (6, 10, 14), (5, 9, 13)]\n",
      "[1, 2, 3, 4, 8, 12, 16]\n",
      "[(15, 14, 13), (11, 10, 9), (7, 6, 5)]\n",
      "[1, 2, 3, 4, 8, 12, 16, 15, 14, 13]\n",
      "[(9, 5), (10, 6), (11, 7)]\n",
      "[1, 2, 3, 4, 8, 12, 16, 15, 14, 13, 9, 5]\n",
      "[(6, 7), (10, 11)]\n",
      "[1, 2, 3, 4, 8, 12, 16, 15, 14, 13, 9, 5, 6, 7]\n",
      "[(11,), (10,)]\n",
      "[1, 2, 3, 4, 8, 12, 16, 15, 14, 13, 9, 5, 6, 7, 11]\n",
      "[(10,)]\n",
      "[1, 2, 3, 4, 8, 12, 16, 15, 14, 13, 9, 5, 6, 7, 11, 10]\n",
      "[]\n"
     ]
    }
   ],
   "source": [
    "matrix = [[1,2,3,4],[5,6,7,8],[9,10,11,12],[13,14,15,16]]\n",
    "res = []\n",
    "print(res)\n",
    "print(matrix)\n",
    "while matrix:\n",
    "    res.extend(matrix.pop(0))\n",
    "    matrix = [*zip(*matrix)][::-1]\n",
    "    print(res)\n",
    "    print(matrix)"
   ]
  },
  {
   "cell_type": "code",
   "execution_count": 1,
   "metadata": {},
   "outputs": [],
   "source": [
    "nums = [2,3,1,1,4]\n",
    "\n",
    "len_nums = len(nums)\n",
    "\n",
    "mod_nums = nums[:-1]"
   ]
  },
  {
   "cell_type": "code",
   "execution_count": 2,
   "metadata": {},
   "outputs": [
    {
     "data": {
      "text/plain": [
       "[2, 3, 1, 1]"
      ]
     },
     "execution_count": 2,
     "metadata": {},
     "output_type": "execute_result"
    }
   ],
   "source": [
    "mod_nums"
   ]
  },
  {
   "cell_type": "code",
   "execution_count": 5,
   "metadata": {},
   "outputs": [],
   "source": [
    "# last_idx_accessible = False\n",
    "def canJump(nums):\n",
    "    return False if 0 in nums[:-1] else True\n",
    "    # if 0 in nums[:-1]:\n",
    "    #     # last_idx_accessible = False\n",
    "    #     return False\n",
    "    # else:\n",
    "    #     return True\n",
    "\n",
    "# for val in nums[:-1]:\n",
    "#     if val == 0:\n",
    "#         last_idx_accessible = False\n",
    "#         break\n",
    "\n"
   ]
  },
  {
   "cell_type": "code",
   "execution_count": 7,
   "metadata": {},
   "outputs": [
    {
     "data": {
      "text/plain": [
       "False"
      ]
     },
     "execution_count": 7,
     "metadata": {},
     "output_type": "execute_result"
    }
   ],
   "source": [
    "# nums = [2,3,1,1,4]\n",
    "nums = [3,2,1,0,4]\n",
    "canJump(nums)"
   ]
  },
  {
   "cell_type": "code",
   "execution_count": 22,
   "metadata": {},
   "outputs": [
    {
     "name": "stdout",
     "output_type": "stream",
     "text": [
      "True\n"
     ]
    }
   ],
   "source": [
    "# nums = [2, 0, 0]\n",
    "# nums = [2,3,1,1,4]\n",
    "nums = [3,2,1,0,4]\n",
    "# nums = [0, 2, 3]\n",
    "# nums = [2, 0, 2, 3]\n",
    "\n",
    "rem_len = len(nums[:-1])\n",
    "last_idx_accessible = False\n",
    "previous_value = 0\n",
    "\n",
    "if 0 not in \n",
    "\n",
    "# if 0 not in nums[:-1]:\n",
    "#     last_idx_accessible = True\n",
    "# elif nums[0] != 0:\n",
    "#     for idx, elem in enumerate(nums[:-1]):\n",
    "#         if elem >= (rem_len - idx):\n",
    "#            last_idx_accessible = True\n",
    "#         elif elem == 0:\n",
    "#             if previous_value > idx:\n",
    "#                 last_idx_accessible = True\n",
    "#             else:\n",
    "#                 last_idx_accessible = False\n",
    "#                 break\n",
    "#         previous_value = elem\n",
    "\n",
    "\n",
    "# print(last_idx_accessible) \n"
   ]
  },
  {
   "cell_type": "code",
   "execution_count": 27,
   "metadata": {},
   "outputs": [
    {
     "name": "stdout",
     "output_type": "stream",
     "text": [
      "True\n"
     ]
    }
   ],
   "source": [
    "# nums = [2, 0, 0]\n",
    "# nums = [2,3,1,1,4]\n",
    "nums = [3,2,1,0,4]\n",
    "# nums = [0, 2, 3]\n",
    "nums = [2, 0, 2, 3]\n",
    "\n",
    "is_last_idx_accessible = False\n",
    "remaining_nums = nums[:-1]\n",
    "remaining_len = len(remaining_nums)\n",
    "\n",
    "if 0 not in remaining_nums:\n",
    "    is_last_idx_accessible = True\n",
    "else:\n",
    "    for idx, val in enumerate(remaining_nums):\n",
    "        if val == 0:\n",
    "            previous_values = remaining_nums[:idx]\n",
    "            if any([(number - len(previous_values) + indx) > 0 for number, indx in enumerate(previous_values)]):\n",
    "                is_last_idx_accessible = True\n",
    "            else:\n",
    "                is_last_idx_accessible = False\n",
    "                break\n",
    "\n",
    "print(is_last_idx_accessible)\n",
    "\n",
    "# if 0 not in remaining_nums:\n",
    "#     is_last_idx_accessible = True\n",
    "# elif nums[0] != 0:\n",
    "#     for idx, val in enumerate(remaining_nums):\n",
    "#         if val >= (remaining_len-idx):\n",
    "#             is_last_idx_accessible = True\n",
    "#         elif val == 0:\n",
    "#             if recurring_sum > idx:\n",
    "#                 is_last_idx_accessible = True\n",
    "#             else:\n",
    "#                 is_last_idx_accessible = False\n",
    "#                 break\n",
    "\n",
    "#         recurring_sum += val\n"
   ]
  },
  {
   "cell_type": "code",
   "execution_count": 4,
   "metadata": {},
   "outputs": [
    {
     "name": "stdout",
     "output_type": "stream",
     "text": [
      "[[1, 6], [8, 10]]\n"
     ]
    }
   ],
   "source": [
    "intervals = [[1,3],[2,6],[8,10],[15,18]]\n",
    "new_intervals = []\n",
    "\n",
    "counter = 0\n",
    "while counter < len(intervals)-1:\n",
    "    if intervals[counter][-1] >= intervals[counter+1][0]:\n",
    "        new_interval = [intervals[counter][0], intervals[counter+1][-1]]\n",
    "        new_intervals.append(new_interval)\n",
    "        counter += 1\n",
    "    else:\n",
    "        new_intervals.append(intervals[counter])\n",
    "\n",
    "    counter += 1\n",
    "\n",
    "print(new_intervals)"
   ]
  },
  {
   "cell_type": "code",
   "execution_count": 7,
   "metadata": {},
   "outputs": [],
   "source": []
  },
  {
   "cell_type": "code",
   "execution_count": 8,
   "metadata": {},
   "outputs": [
    {
     "data": {
      "text/plain": [
       "[1, 3, 2, 6, 8, 10, 15, 18]"
      ]
     },
     "execution_count": 8,
     "metadata": {},
     "output_type": "execute_result"
    }
   ],
   "source": [
    "array"
   ]
  },
  {
   "cell_type": "code",
   "execution_count": 21,
   "metadata": {},
   "outputs": [
    {
     "ename": "ValueError",
     "evalue": "cannot reshape array of size 7 into shape (3,2)",
     "output_type": "error",
     "traceback": [
      "\u001b[0;31m---------------------------------------------------------------------------\u001b[0m",
      "\u001b[0;31mValueError\u001b[0m                                Traceback (most recent call last)",
      "Cell \u001b[0;32mIn[21], line 32\u001b[0m\n\u001b[1;32m     29\u001b[0m     counter \u001b[39m+\u001b[39m\u001b[39m=\u001b[39m \u001b[39m1\u001b[39m\n\u001b[1;32m     31\u001b[0m \u001b[39m# if even length, split into pairs\u001b[39;00m\n\u001b[0;32m---> 32\u001b[0m new_intervals \u001b[39m=\u001b[39m \u001b[39mlist\u001b[39m(new_intervals\u001b[39m.\u001b[39;49mreshape(\u001b[39mlen\u001b[39;49m(new_intervals)\u001b[39m/\u001b[39;49m\u001b[39m/\u001b[39;49m\u001b[39m2\u001b[39;49m, \u001b[39m2\u001b[39;49m))\n\u001b[1;32m     33\u001b[0m new_intervals \u001b[39m=\u001b[39m [\u001b[39mlist\u001b[39m(elem) \u001b[39mfor\u001b[39;00m elem \u001b[39min\u001b[39;00m new_intervals]\n",
      "\u001b[0;31mValueError\u001b[0m: cannot reshape array of size 7 into shape (3,2)"
     ]
    }
   ],
   "source": [
    "# new_intervals = []\n",
    "\n",
    "\n",
    "# new_ivl = [array[counter]]\n",
    "# counter += 1\n",
    "# while counter < len(array):\n",
    "#     if array[counter] >= array[counter+1]:\n",
    "#         counter += 1\n",
    "#     else:\n",
    "#         new_ivl.append(array[counter+1])\n",
    "#         new_interval.append(new_ivl)\n",
    "import numpy as np\n",
    "\n",
    "intervals = [[1,3],[2,6],[8,10],[15,18]]\n",
    "# intervals = [[1,4],[4,5]]\n",
    "# intervals = [[1, 4], [2, 5], [3, 6], [7, 8], [9, 15], [15, 20], [17, 25], [30, 40]]\n",
    "# intervals = [[1,2],[3,4],[5,6]]\n",
    "\n",
    "array = list(np.array(intervals).flatten())\n",
    "\n",
    "new_intervals = np.array([array[0]])\n",
    "# array = array[1:]\n",
    "counter = 0\n",
    "\n",
    "while counter < len(array)-1:\n",
    "    if array[counter] < array[counter+1]:\n",
    "        # new_intervals.append(array[counter+1])\n",
    "        new_intervals = np.append(new_intervals, array[counter+1])\n",
    "    counter += 1\n",
    "\n",
    "# if even length, split into pairs\n",
    "new_intervals = list(new_intervals.reshape(len(new_intervals)//2, 2))\n",
    "new_intervals = [list(elem) for elem in new_intervals]\n",
    "\n"
   ]
  },
  {
   "cell_type": "code",
   "execution_count": 20,
   "metadata": {},
   "outputs": [
    {
     "data": {
      "text/plain": [
       "[[1, 2], [3, 4], [5, 6]]"
      ]
     },
     "execution_count": 20,
     "metadata": {},
     "output_type": "execute_result"
    }
   ],
   "source": [
    "new_intervals"
   ]
  },
  {
   "cell_type": "code",
   "execution_count": 4,
   "metadata": {},
   "outputs": [
    {
     "name": "stdout",
     "output_type": "stream",
     "text": [
      "[2, 8, 15]\n",
      "[3, 6, 10, 18]\n",
      "[1, 15, 10]\n"
     ]
    }
   ],
   "source": [
    "intervals = [[1,3],[2,6],[8,10],[15,18]]\n",
    "\n",
    "if len(intervals) <= 1:\n",
    "    print(intervals)\n",
    "\n",
    "start = []\n",
    "end = []\n",
    "result = []\n",
    "\n",
    "for ival in intervals:\n",
    "    start.append(ival[0])\n",
    "    end.append(ival[-1])\n",
    "\n",
    "start.sort()\n",
    "end.sort()\n",
    "\n",
    "\n",
    "result.append(start[0])\n",
    "start = start[1:]\n",
    "\n",
    "\n",
    "counter = 0\n",
    "while counter < len(intervals)-1:\n",
    "    if start[counter] <= end[counter]:\n",
    "        counter += 1        \n",
    "    else:\n",
    "        result.append(start[counter])\n",
    "        result.append(end[counter])\n",
    "    \n",
    "    counter += 1\n",
    "\n",
    "print(start)\n",
    "print(end)\n",
    "print(result)\n"
   ]
  },
  {
   "cell_type": "code",
   "execution_count": 23,
   "metadata": {},
   "outputs": [
    {
     "ename": "AttributeError",
     "evalue": "'list' object has no attribute 'start'",
     "output_type": "error",
     "traceback": [
      "\u001b[0;31m---------------------------------------------------------------------------\u001b[0m",
      "\u001b[0;31mAttributeError\u001b[0m                            Traceback (most recent call last)",
      "Cell \u001b[0;32mIn[23], line 10\u001b[0m\n\u001b[1;32m      3\u001b[0m \u001b[39m# intervals = [[1,3],[2,6],[8,10],[15,18]]\u001b[39;00m\n\u001b[1;32m      4\u001b[0m \u001b[39m# intervals = [[1,4],[4,5]]\u001b[39;00m\n\u001b[1;32m      5\u001b[0m \u001b[39m# intervals = [[1,4],[2,5],[3,6],[15,18]]\u001b[39;00m\n\u001b[1;32m      6\u001b[0m \u001b[39m# intervals = [[1,2], [1,2], [1,2]]\u001b[39;00m\n\u001b[1;32m      7\u001b[0m \u001b[39m# intervals = [[1,1], [1,1], [1,5], [1,6], [1,7], [1,14]]\u001b[39;00m\n\u001b[1;32m      8\u001b[0m intervals \u001b[39m=\u001b[39m [[\u001b[39m1\u001b[39m,\u001b[39m4\u001b[39m],[\u001b[39m0\u001b[39m,\u001b[39m4\u001b[39m]]\n\u001b[0;32m---> 10\u001b[0m intervals \u001b[39m=\u001b[39m \u001b[39msorted\u001b[39;49m(intervals, key\u001b[39m=\u001b[39;49m\u001b[39mlambda\u001b[39;49;00m x:x\u001b[39m.\u001b[39;49mstart)\n\u001b[1;32m     13\u001b[0m array \u001b[39m=\u001b[39m \u001b[39mlist\u001b[39m(np\u001b[39m.\u001b[39marray(intervals)\u001b[39m.\u001b[39mflatten())\n\u001b[1;32m     15\u001b[0m result \u001b[39m=\u001b[39m [array[\u001b[39m0\u001b[39m]]\n",
      "Cell \u001b[0;32mIn[23], line 10\u001b[0m, in \u001b[0;36m<lambda>\u001b[0;34m(x)\u001b[0m\n\u001b[1;32m      3\u001b[0m \u001b[39m# intervals = [[1,3],[2,6],[8,10],[15,18]]\u001b[39;00m\n\u001b[1;32m      4\u001b[0m \u001b[39m# intervals = [[1,4],[4,5]]\u001b[39;00m\n\u001b[1;32m      5\u001b[0m \u001b[39m# intervals = [[1,4],[2,5],[3,6],[15,18]]\u001b[39;00m\n\u001b[1;32m      6\u001b[0m \u001b[39m# intervals = [[1,2], [1,2], [1,2]]\u001b[39;00m\n\u001b[1;32m      7\u001b[0m \u001b[39m# intervals = [[1,1], [1,1], [1,5], [1,6], [1,7], [1,14]]\u001b[39;00m\n\u001b[1;32m      8\u001b[0m intervals \u001b[39m=\u001b[39m [[\u001b[39m1\u001b[39m,\u001b[39m4\u001b[39m],[\u001b[39m0\u001b[39m,\u001b[39m4\u001b[39m]]\n\u001b[0;32m---> 10\u001b[0m intervals \u001b[39m=\u001b[39m \u001b[39msorted\u001b[39m(intervals, key\u001b[39m=\u001b[39m\u001b[39mlambda\u001b[39;00m x:x\u001b[39m.\u001b[39;49mstart)\n\u001b[1;32m     13\u001b[0m array \u001b[39m=\u001b[39m \u001b[39mlist\u001b[39m(np\u001b[39m.\u001b[39marray(intervals)\u001b[39m.\u001b[39mflatten())\n\u001b[1;32m     15\u001b[0m result \u001b[39m=\u001b[39m [array[\u001b[39m0\u001b[39m]]\n",
      "\u001b[0;31mAttributeError\u001b[0m: 'list' object has no attribute 'start'"
     ]
    }
   ],
   "source": [
    "import numpy as np\n",
    "\n",
    "# intervals = [[1,3],[2,6],[8,10],[15,18]]\n",
    "# intervals = [[1,4],[4,5]]\n",
    "# intervals = [[1,4],[2,5],[3,6],[15,18]]\n",
    "# intervals = [[1,2], [1,2], [1,2]]\n",
    "# intervals = [[1,1], [1,1], [1,5], [1,6], [1,7], [1,14]]\n",
    "intervals = [[1,4],[0,4]]\n",
    "\n",
    "intervals = sorted(intervals, key=lambda x:x[0])\n",
    "\n",
    "\n",
    "array = list(np.array(intervals).flatten())\n",
    "\n",
    "result = [array[0]]\n",
    "array = array[1:]\n",
    "counter = 0\n",
    "\n",
    "while counter < len(array)-1:    \n",
    "    if array[counter+1] <= array[counter]:\n",
    "        counter += 2\n",
    "    else:\n",
    "        if array[counter] not in result:\n",
    "            result.append(array[counter])\n",
    "        if array[counter+1] not in result:\n",
    "            result.append(array[counter+1])\n",
    "        counter += 1\n",
    "\n",
    "if (array[-1] not in result) or (len(result) % 2 != 0):\n",
    "    result.append(array[-1])\n",
    "\n",
    "result = list(np.array(result).reshape(len(result)//2, 2))\n",
    "result = [list(res) for res in result]\n",
    "print(result)\n"
   ]
  },
  {
   "cell_type": "code",
   "execution_count": 19,
   "metadata": {},
   "outputs": [],
   "source": [
    "arr = [[1,4],[0,4]]\n",
    "arr = sorted(arr, key=lambda x:x[0])"
   ]
  },
  {
   "cell_type": "code",
   "execution_count": 3,
   "metadata": {},
   "outputs": [],
   "source": [
    "# unique paths\n",
    "\n",
    "m = 3\n",
    "n = 7\n",
    "\n",
    "def uniquePaths(m: int, n: int) -> int:\n",
    "    if m == 1 or n == 1:\n",
    "        return 1\n",
    "    return uniquePaths(m-1, n) + uniquePaths(m, n-1)"
   ]
  },
  {
   "cell_type": "code",
   "execution_count": 4,
   "metadata": {},
   "outputs": [
    {
     "data": {
      "text/plain": [
       "28"
      ]
     },
     "execution_count": 4,
     "metadata": {},
     "output_type": "execute_result"
    }
   ],
   "source": [
    "uniquePaths(m, n)"
   ]
  },
  {
   "cell_type": "code",
   "execution_count": null,
   "metadata": {},
   "outputs": [],
   "source": []
  }
 ],
 "metadata": {
  "kernelspec": {
   "display_name": "Python 3",
   "language": "python",
   "name": "python3"
  },
  "language_info": {
   "codemirror_mode": {
    "name": "ipython",
    "version": 3
   },
   "file_extension": ".py",
   "mimetype": "text/x-python",
   "name": "python",
   "nbconvert_exporter": "python",
   "pygments_lexer": "ipython3",
   "version": "3.11.1"
  },
  "orig_nbformat": 4,
  "vscode": {
   "interpreter": {
    "hash": "22b6aa23ebdb95c31771a605332d65b96d6e70a70a8e5cf021766a53e709a3c7"
   }
  }
 },
 "nbformat": 4,
 "nbformat_minor": 2
}
